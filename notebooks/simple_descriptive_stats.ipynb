{
 "cells": [
  {
   "cell_type": "markdown",
   "id": "0d2cf20a",
   "metadata": {},
   "source": [
    "Imports"
   ]
  },
  {
   "cell_type": "code",
   "execution_count": 9,
   "id": "cd46346a",
   "metadata": {},
   "outputs": [],
   "source": [
    "from sqlalchemy import create_engine\n",
    "import pandas as pd\n",
    "import numpy as np\n",
    "import matplotlib.pyplot as plt \n"
   ]
  },
  {
   "cell_type": "markdown",
   "id": "eb2422a3",
   "metadata": {},
   "source": [
    "Connection to database"
   ]
  },
  {
   "cell_type": "code",
   "execution_count": 16,
   "id": "1cee36fb",
   "metadata": {},
   "outputs": [],
   "source": [
    "db = 'ign_naturstyrelsen'\n",
    "user = 'edin'\n",
    "password = ''\n",
    "host = '10.0.1.30'\n",
    "\n",
    "connection_string = f'postgresql+psycopg2://{user}:{password}@{host}/{db}'\n",
    "\n",
    "con = create_engine(connection_string)"
   ]
  },
  {
   "cell_type": "markdown",
   "id": "53e9cf8b",
   "metadata": {},
   "source": [
    "Antal punkter i databasen"
   ]
  },
  {
   "cell_type": "code",
   "execution_count": 20,
   "id": "2361c1bf",
   "metadata": {},
   "outputs": [
    {
     "name": "stdout",
     "output_type": "stream",
     "text": [
      "Antal punkter i rådata: 8939348\n"
     ]
    }
   ],
   "source": [
    "q_stmt = \"SELECT COUNT(*) FROM raw_data\"\n",
    "\n",
    "antal_punkter = con.execute(q_stmt).first()[0]\n",
    "\n",
    "print(f'Antal punkter i rådata: {antal_punkter}')\n"
   ]
  },
  {
   "cell_type": "code",
   "execution_count": 24,
   "id": "bdc0b77c",
   "metadata": {},
   "outputs": [
    {
     "name": "stdout",
     "output_type": "stream",
     "text": [
      "Antal ruter i alt (max 10 min mellem to registreringer): 1892029\n"
     ]
    }
   ],
   "source": [
    "q_stmt = \"SELECT COUNT(*) FROM route\"\n",
    "\n",
    "antal_ruter_i_alt = con.execute(q_stmt).first()[0]\n",
    "\n",
    "print(f'Antal ruter i alt (max 10 min mellem to registreringer): {antal_ruter_i_alt}')\n"
   ]
  },
  {
   "cell_type": "code",
   "execution_count": 27,
   "id": "45297808",
   "metadata": {},
   "outputs": [
    {
     "name": "stdout",
     "output_type": "stream",
     "text": [
      "Antal ruter mere med end en registrering: 1013353\n"
     ]
    }
   ],
   "source": [
    "q_stmt = \"SELECT COUNT(*) FROM route where n_points > 1\"\n",
    "\n",
    "antal_ruter = con.execute(q_stmt).first()[0]\n",
    "\n",
    "print(f'Antal ruter mere med end en registrering: {antal_ruter}')"
   ]
  },
  {
   "cell_type": "code",
   "execution_count": 38,
   "id": "cd09f866",
   "metadata": {},
   "outputs": [
    {
     "data": {
      "text/plain": [
       "count    1.013353e+06\n",
       "mean     7.955494e+00\n",
       "std      2.190695e+01\n",
       "min      2.000000e+00\n",
       "25%      2.000000e+00\n",
       "50%      4.000000e+00\n",
       "75%      8.000000e+00\n",
       "max      5.892000e+03\n",
       "Name: n_points, dtype: float64"
      ]
     },
     "execution_count": 38,
     "metadata": {},
     "output_type": "execute_result"
    }
   ],
   "source": [
    "q_stmt = \"SELECT n_points FROM route where n_points > 1\"\n",
    "n_points_df = pd.read_sql(q_stmt, con)\n",
    "n_points_df[\"n_points\"].describe()\n"
   ]
  },
  {
   "cell_type": "code",
   "execution_count": 39,
   "id": "16b52eec",
   "metadata": {},
   "outputs": [
    {
     "data": {
      "image/png": "[encoded data removed]",
      "text/plain": [
       "<Figure size 432x288 with 1 Axes>"
      ]
     },
     "metadata": {
      "needs_background": "light"
     },
     "output_type": "display_data"
    }
   ],
   "source": [
    "plt.yscale('log')\n",
    "n_points_hist = plt.hist(n_points_df['n_points'], 100)"
   ]
  },
  {
   "cell_type": "code",
   "execution_count": 40,
   "id": "82c84267",
   "metadata": {},
   "outputs": [
    {
     "data": {
      "text/plain": [
       "count    56390.000000\n",
       "mean        17.970438\n",
       "std         87.074516\n",
       "min          1.000000\n",
       "25%          1.000000\n",
       "50%          3.000000\n",
       "75%          8.000000\n",
       "max       5551.000000\n",
       "Name: count, dtype: float64"
      ]
     },
     "execution_count": 40,
     "metadata": {},
     "output_type": "execute_result"
    }
   ],
   "source": [
    "q_stmt = \"\"\"select device_id, count(*) \n",
    "            from route where n_points > 1 \n",
    "            group by device_id\"\"\"\n",
    "routers_per_device = pd.read_sql(q_stmt, con)\n",
    "routers_per_device[\"count\"].describe()"
   ]
  },
  {
   "cell_type": "code",
   "execution_count": 41,
   "id": "e03f3808",
   "metadata": {},
   "outputs": [
    {
     "data": {
      "image/png": "[encoded data removed]",
      "text/plain": [
       "<Figure size 432x288 with 1 Axes>"
      ]
     },
     "metadata": {
      "needs_background": "light"
     },
     "output_type": "display_data"
    }
   ],
   "source": [
    "plt.yscale('log')\n",
    "n_points_hist = plt.hist(routers_per_device[\"count\"], 100)"
   ]
  },
  {
   "cell_type": "code",
   "execution_count": 43,
   "id": "37302f88",
   "metadata": {},
   "outputs": [],
   "source": [
    "route_id = 635648\n",
    "route_id = 1581962 #beboelse ???"
   ]
  },
  {
   "cell_type": "code",
   "execution_count": null,
   "id": "9b2bacd7",
   "metadata": {},
   "outputs": [],
   "source": []
  },
  {
   "cell_type": "code",
   "execution_count": null,
   "id": "8882d744",
   "metadata": {},
   "outputs": [],
   "source": []
  },
  {
   "cell_type": "code",
   "execution_count": null,
   "id": "5afccb5e",
   "metadata": {},
   "outputs": [],
   "source": []
  },
  {
   "cell_type": "code",
   "execution_count": null,
   "id": "68eae090",
   "metadata": {},
   "outputs": [],
   "source": []
  },
  {
   "cell_type": "code",
   "execution_count": null,
   "id": "19024fa3",
   "metadata": {},
   "outputs": [],
   "source": []
  },
  {
   "cell_type": "code",
   "execution_count": 4,
   "id": "7ea839aa",
   "metadata": {},
   "outputs": [
    {
     "name": "stdout",
     "output_type": "stream",
     "text": [
      "81512 devices analyzed (100.00%)\n"
     ]
    }
   ],
   "source": [
    "route_devices_sql = \"SELECT COUNT(*) FROM (SELECT DISTINCT device_id FROM route) as temp\"\n",
    "all_devices_sql = \"SELECT COUNT(*) from device\"\n",
    "n_route_devices = con.execute(route_devices_sql).first()[0]\n",
    "n_devices = con.execute(all_devices_sql).first()[0]\n",
    "print('{} devices analyzed ({:.2f}%)'.format(n_route_devices, n_route_devices/n_devices*100))"
   ]
  },
  {
   "cell_type": "code",
   "execution_count": 14,
   "id": "ad26e7ce",
   "metadata": {},
   "outputs": [],
   "source": [
    "device_route_count_sql = \"SELECT device_id, COUNT(*) FROM route where n_points > 1 GROUP BY device_id\"\n",
    "n_points_sql = \"SELECT n_points FROM route where n_points > 1\"\n",
    "device_route_count_df = pd.read_sql(device_route_count_sql, con)\n",
    "n_points_df = pd.read_sql(n_points_sql, con)"
   ]
  },
  {
   "cell_type": "code",
   "execution_count": 15,
   "id": "268d084c",
   "metadata": {},
   "outputs": [
    {
     "name": "stdout",
     "output_type": "stream",
     "text": [
      "56390 devices with routes\n",
      "Median 3 routes per device\n"
     ]
    },
    {
     "data": {
      "image/png": "[encoded data removed]",
      "text/plain": [
       "<Figure size 432x288 with 1 Axes>"
      ]
     },
     "metadata": {
      "needs_background": "light"
     },
     "output_type": "display_data"
    }
   ],
   "source": [
    "print('{} devices with routes'.format(len(device_route_count_df)))\n",
    "print('Median {} routes per device'.format(int(np.median(device_route_count_df['count']))))\n",
    "device_route_hist = plt.hist(device_route_count_df['count'], 100)"
   ]
  },
  {
   "cell_type": "code",
   "execution_count": 13,
   "id": "7eafd1da",
   "metadata": {},
   "outputs": [
    {
     "name": "stdout",
     "output_type": "stream",
     "text": [
      "1013353 routes with more than one point\n",
      "Median 4 points per route\n"
     ]
    },
    {
     "data": {
      "image/png": "[encoded data removed]",
      "text/plain": [
       "<Figure size 432x288 with 1 Axes>"
      ]
     },
     "metadata": {
      "needs_background": "light"
     },
     "output_type": "display_data"
    }
   ],
   "source": [
    "print('{} routes with more than one point'.format(len(n_points_df)))\n",
    "print('Median {} points per route'.format(int(np.median(n_points_df['n_points']))))\n",
    "n_points_hist = plt.hist(n_points_df['n_points'], 100)"
   ]
  }
 ],
 "metadata": {
  "interpreter": {
   "hash": "0e27f60ba3a13efd665cbbde04c8c5d9587c7f27132acb90b1372f4925cfa802"
  },
  "kernelspec": {
   "display_name": "Python 3.8.10 ('ign_naturstyrelsen-aE82289g')",
   "language": "python",
   "name": "python3"
  },
  "language_info": {
   "codemirror_mode": {
    "name": "ipython",
    "version": 3
   },
   "file_extension": ".py",
   "mimetype": "text/x-python",
   "name": "python",
   "nbconvert_exporter": "python",
   "pygments_lexer": "ipython3",
   "version": "3.8.10"
  }
 },
 "nbformat": 4,
 "nbformat_minor": 5
}
