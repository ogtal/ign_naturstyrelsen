{
 "cells": [
  {
   "cell_type": "markdown",
   "id": "0d2cf20a",
   "metadata": {},
   "source": [
    "Imports"
   ]
  },
  {
   "cell_type": "code",
   "execution_count": 15,
   "id": "cd46346a",
   "metadata": {},
   "outputs": [],
   "source": [
    "from sqlalchemy import create_engine\n",
    "import pandas as pd\n",
    "import numpy as np\n",
    "import matplotlib.pyplot as plt "
   ]
  },
  {
   "cell_type": "markdown",
   "id": "eb2422a3",
   "metadata": {},
   "source": [
    "Connection to database"
   ]
  },
  {
   "cell_type": "code",
   "execution_count": 2,
   "id": "1cee36fb",
   "metadata": {},
   "outputs": [],
   "source": [
    "db = 'ign_naturstyrelsen'\n",
    "user = 'edin'\n",
    "password = ''\n",
    "host = '10.0.1.30'\n",
    "\n",
    "connection_string = f'postgresql+psycopg2://{user}:{password}@{host}/{db}'\n",
    "\n",
    "con = create_engine(connection_string)"
   ]
  },
  {
   "cell_type": "markdown",
   "id": "53e9cf8b",
   "metadata": {},
   "source": [
    "Get number of devices in database"
   ]
  },
  {
   "cell_type": "code",
   "execution_count": 6,
   "id": "7ea839aa",
   "metadata": {},
   "outputs": [
    {
     "name": "stdout",
     "output_type": "stream",
     "text": [
      "45210 devices analyzed (55.46%)\n"
     ]
    }
   ],
   "source": [
    "route_devices_sql = \"SELECT COUNT(*) FROM (SELECT DISTINCT device_id FROM route) as temp\"\n",
    "all_devices_sql = \"SELECT COUNT(*) from device\"\n",
    "n_route_devices = con.execute(route_devices_sql).first()[0]\n",
    "n_devices = con.execute(all_devices_sql).first()[0]\n",
    "print('{} devices analyzed ({:.2f}%)'.format(n_route_devices, n_route_devices/n_devices*100))"
   ]
  },
  {
   "cell_type": "code",
   "execution_count": 9,
   "id": "ad26e7ce",
   "metadata": {},
   "outputs": [],
   "source": [
    "device_route_count_sql = \"SELECT device_id, COUNT(*) FROM route where n_points > 1 GROUP BY device_id\"\n",
    "n_points_sql = \"SELECT n_points FROM route where n_points > 1\"\n",
    "device_route_count_df = pd.read_sql(device_route_count_sql, con)\n",
    "n_points_df = pd.read_sql(n_points_sql, con)"
   ]
  },
  {
   "cell_type": "code",
   "execution_count": 23,
   "id": "268d084c",
   "metadata": {},
   "outputs": [
    {
     "name": "stdout",
     "output_type": "stream",
     "text": [
      "44400 devices with routes\n",
      "Median 3 routes per device\n"
     ]
    },
    {
     "data": {
      "image/png": "[encoded data removed]",
      "text/plain": [
       "<Figure size 432x288 with 1 Axes>"
      ]
     },
     "metadata": {
      "needs_background": "light"
     },
     "output_type": "display_data"
    }
   ],
   "source": [
    "print('{} devices with routes'.format(len(device_route_count_df)))\n",
    "print('Median {} routes per device'.format(int(np.median(device_route_count_df['count']))))\n",
    "device_route_hist = plt.hist(device_route_count_df['count'], 100)"
   ]
  },
  {
   "cell_type": "code",
   "execution_count": 31,
   "id": "7eafd1da",
   "metadata": {},
   "outputs": [
    {
     "name": "stdout",
     "output_type": "stream",
     "text": [
      "{} routes with more than one point\n"
     ]
    },
    {
     "ename": "AttributeError",
     "evalue": "'NoneType' object has no attribute 'format'",
     "output_type": "error",
     "traceback": [
      "\u001b[0;31m---------------------------------------------------------------------------\u001b[0m",
      "\u001b[0;31mAttributeError\u001b[0m                            Traceback (most recent call last)",
      "\u001b[0;32m/tmp/ipykernel_6853/2257735931.py\u001b[0m in \u001b[0;36m<module>\u001b[0;34m\u001b[0m\n\u001b[0;32m----> 1\u001b[0;31m \u001b[0mprint\u001b[0m\u001b[0;34m(\u001b[0m\u001b[0;34m'{} routes with more than one point'\u001b[0m\u001b[0;34m)\u001b[0m\u001b[0;34m.\u001b[0m\u001b[0mformat\u001b[0m\u001b[0;34m(\u001b[0m\u001b[0mlen\u001b[0m\u001b[0;34m(\u001b[0m\u001b[0mn_points_df\u001b[0m\u001b[0;34m)\u001b[0m\u001b[0;34m)\u001b[0m\u001b[0;34m\u001b[0m\u001b[0;34m\u001b[0m\u001b[0m\n\u001b[0m\u001b[1;32m      2\u001b[0m \u001b[0mprint\u001b[0m\u001b[0;34m(\u001b[0m\u001b[0;34m'Median {} points per route'\u001b[0m\u001b[0;34m.\u001b[0m\u001b[0mformat\u001b[0m\u001b[0;34m(\u001b[0m\u001b[0mint\u001b[0m\u001b[0;34m(\u001b[0m\u001b[0mnp\u001b[0m\u001b[0;34m.\u001b[0m\u001b[0mmedian\u001b[0m\u001b[0;34m(\u001b[0m\u001b[0mn_points_df\u001b[0m\u001b[0;34m[\u001b[0m\u001b[0;34m'n_points'\u001b[0m\u001b[0;34m]\u001b[0m\u001b[0;34m)\u001b[0m\u001b[0;34m)\u001b[0m\u001b[0;34m)\u001b[0m\u001b[0;34m)\u001b[0m\u001b[0;34m\u001b[0m\u001b[0;34m\u001b[0m\u001b[0m\n\u001b[1;32m      3\u001b[0m \u001b[0mn_points_hist\u001b[0m \u001b[0;34m=\u001b[0m \u001b[0mplt\u001b[0m\u001b[0;34m.\u001b[0m\u001b[0mhist\u001b[0m\u001b[0;34m(\u001b[0m\u001b[0mn_points_df\u001b[0m\u001b[0;34m[\u001b[0m\u001b[0;34m'n_points'\u001b[0m\u001b[0;34m]\u001b[0m\u001b[0;34m,\u001b[0m \u001b[0;36m100\u001b[0m\u001b[0;34m)\u001b[0m\u001b[0;34m\u001b[0m\u001b[0;34m\u001b[0m\u001b[0m\n",
      "\u001b[0;31mAttributeError\u001b[0m: 'NoneType' object has no attribute 'format'"
     ]
    }
   ],
   "source": [
    "print('{} routes with more than one point'.format(len(n_points_df)))\n",
    "print('Median {} points per route'.format(int(np.median(n_points_df['n_points']))))\n",
    "n_points_hist = plt.hist(n_points_df['n_points'], 100)"
   ]
  }
 ],
 "metadata": {
  "kernelspec": {
   "display_name": "Python 3 (ipykernel)",
   "language": "python",
   "name": "python3"
  },
  "language_info": {
   "codemirror_mode": {
    "name": "ipython",
    "version": 3
   },
   "file_extension": ".py",
   "mimetype": "text/x-python",
   "name": "python",
   "nbconvert_exporter": "python",
   "pygments_lexer": "ipython3",
   "version": "3.7.11"
  }
 },
 "nbformat": 4,
 "nbformat_minor": 5
}
